{
 "cells": [
  {
   "cell_type": "markdown",
   "metadata": {},
   "source": [
    "# Importing Data Using Pandas - Lab"
   ]
  },
  {
   "cell_type": "markdown",
   "metadata": {},
   "source": [
    "## Introduction\n",
    "\n",
    "In this lab, you'll get some practice with loading files with summary or metadata, and if you find that easy, the optional \"level up\" content covers loading data from a currupted csv file!"
   ]
  },
  {
   "cell_type": "markdown",
   "metadata": {},
   "source": [
    "## Objectives\n",
    "You will be able to:\n",
    "* Import data from csv files and Excel files\n",
    "* Understand and explain key arguments for imports\n",
    "* Save information to csv and Excel files\n",
    "* Access data within a Pandas DataFrame (print() and .head())"
   ]
  },
  {
   "cell_type": "markdown",
   "metadata": {},
   "source": [
    "#  Loading Files with Summary or Meta Data\n",
    "\n",
    "Load either of the files Zipcode_Demos.csv or Zipcode_Demos.xlsx. What's going on with this dataset? Clean it up into a useable format and describe the nuances of how the data is currently formatted.\n",
    "\n",
    "All data files are stored in a folder titled 'Data'."
   ]
  },
  {
   "cell_type": "code",
   "execution_count": 9,
   "metadata": {},
   "outputs": [
    {
     "data": {
      "text/plain": [
       "47\n",
       "JURISDICTION NAME                      10005.800\n",
       "COUNT PARTICIPANTS                         9.400\n",
       "COUNT FEMALE                               4.800\n",
       "PERCENT FEMALE                             0.404\n",
       "COUNT MALE                                 4.600\n",
       "PERCENT MALE                               0.396\n",
       "COUNT GENDER UNKNOWN                       0.000\n",
       "PERCENT GENDER UNKNOWN                     0.000\n",
       "COUNT GENDER TOTAL                         9.400\n",
       "PERCENT GENDER TOTAL                      80.000\n",
       "COUNT PACIFIC ISLANDER                     0.000\n",
       "PERCENT PACIFIC ISLANDER                   0.000\n",
       "COUNT HISPANIC LATINO                      2.000\n",
       "PERCENT HISPANIC LATINO                    0.105\n",
       "COUNT AMERICAN INDIAN                      0.000\n",
       "PERCENT AMERICAN INDIAN                    0.000\n",
       "COUNT ASIAN NON HISPANIC                   3.600\n",
       "PERCENT ASIAN NON HISPANIC                 0.437\n",
       "COUNT WHITE NON HISPANIC                   0.800\n",
       "PERCENT WHITE NON HISPANIC                 0.036\n",
       "COUNT BLACK NON HISPANIC                   2.600\n",
       "PERCENT BLACK NON HISPANIC                 0.181\n",
       "COUNT OTHER ETHNICITY                      0.400\n",
       "PERCENT OTHER ETHNICITY                    0.040\n",
       "COUNT ETHNICITY UNKNOWN                    0.000\n",
       "PERCENT ETHNICITY UNKNOWN                  0.000\n",
       "COUNT ETHNICITY TOTAL                      9.400\n",
       "PERCENT ETHNICITY TOTAL                   79.900\n",
       "COUNT PERMANENT RESIDENT ALIEN             0.500\n",
       "PERCENT PERMANENT RESIDENT ALIEN           0.061\n",
       "COUNT US CITIZEN                           8.900\n",
       "PERCENT US CITIZEN                         0.739\n",
       "COUNT OTHER CITIZEN STATUS                 0.000\n",
       "PERCENT OTHER CITIZEN STATUS               0.000\n",
       "COUNT CITIZEN STATUS UNKNOWN               0.000\n",
       "PERCENT CITIZEN STATUS UNKNOWN             0.000\n",
       "COUNT CITIZEN STATUS TOTAL                 9.400\n",
       "PERCENT CITIZEN STATUS TOTAL              80.000\n",
       "COUNT RECEIVES PUBLIC ASSISTANCE           2.300\n",
       "PERCENT RECEIVES PUBLIC ASSISTANCE         0.151\n",
       "COUNT NRECEIVES PUBLIC ASSISTANCE          7.100\n",
       "PERCENT NRECEIVES PUBLIC ASSISTANCE        0.649\n",
       "COUNT PUBLIC ASSISTANCE UNKNOWN            0.000\n",
       "PERCENT PUBLIC ASSISTANCE UNKNOWN          0.000\n",
       "COUNT PUBLIC ASSISTANCE TOTAL              9.400\n",
       "dtype: float64"
      ]
     },
     "execution_count": 9,
     "metadata": {},
     "output_type": "execute_result"
    }
   ],
   "source": [
    "#Your code here\n",
    "import pandas as pd\n",
    "\n",
    "zipcodes1 = pd.read_csv('Data/Zipcode_Demos.csv', nrows=46)\n",
    "\n",
    "\n",
    "zipcodes2 = pd.read_csv('Data/Zipcode_Demos.csv')\n",
    "#temp = zipcodes1.iloc[:,2]\n",
    "extra_row = pd.Series(zipcodes1.iloc[1:,2].values,index=zipcodes1.iloc[1:,1])\n",
    "extra_row.index.name = '47'\n",
    "#zipcodes2.append(extra_row,ignore_index=True)\n",
    "#zipcodes2.drop(columns=['47'])\n",
    "#zipcodes2\n",
    "extra_row"
   ]
  },
  {
   "cell_type": "markdown",
   "metadata": {},
   "source": [
    "## Level Up (Optional)\n",
    "\n",
    "### Loading Corrupt CSV files\n",
    "\n",
    "Occassionally, you encountered some really ill formatted data. One example of this can be data that has strings containing commas in a csv file. Under the standard protocol, when this occurs, one is suppossed to use quotes to differentiate between the commas denoting fields and commas within those fields themselves. For example, we could have a table like this:  \n",
    "\n",
    "ReviewerID,Rating,N_reviews,Review,VenueID\n",
    "123456,4,137,This restuarant was pretty good, we had a great time.,98765\n",
    "\n",
    "Which should be saved like this if it were a csv (to avoid confusion with the commas in the Review text):\n",
    "\"ReviewerID\",\"Rating\",\"N_reviews\",\"Review\",\"VenueID\"\n",
    "\"123456\",\"4\",\"137\",\"This restuarant was pretty good, we had a great time.\",\"98765\""
   ]
  },
  {
   "cell_type": "markdown",
   "metadata": {},
   "source": [
    "Attempt to import the corrupt file, or at least a small preview of it. It is appropriately titled Yelp_Reviews_corrupt.csv. Investigate some of the intricacies of skipping rows to then pass over this error and comment on what you think is going on."
   ]
  },
  {
   "cell_type": "code",
   "execution_count": null,
   "metadata": {
    "collapsed": true
   },
   "outputs": [],
   "source": [
    "#Hint: here's a useful programming pattern to use.\n",
    "try:\n",
    "    #do something\n",
    "except Exception as e:\n",
    "    #handle your exception e"
   ]
  },
  {
   "cell_type": "code",
   "execution_count": null,
   "metadata": {
    "collapsed": true
   },
   "outputs": [],
   "source": [
    "#Your code here"
   ]
  }
 ],
 "metadata": {
  "kernelspec": {
   "display_name": "Python 3",
   "language": "python",
   "name": "python3"
  },
  "language_info": {
   "codemirror_mode": {
    "name": "ipython",
    "version": 3
   },
   "file_extension": ".py",
   "mimetype": "text/x-python",
   "name": "python",
   "nbconvert_exporter": "python",
   "pygments_lexer": "ipython3",
   "version": "3.6.6"
  }
 },
 "nbformat": 4,
 "nbformat_minor": 2
}
